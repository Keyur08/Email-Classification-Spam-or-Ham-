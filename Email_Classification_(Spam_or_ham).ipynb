{
  "nbformat": 4,
  "nbformat_minor": 0,
  "metadata": {
    "colab": {
      "provenance": [],
      "mount_file_id": "1WuPV9GL65lYS0mRkR_jEaAbcxaJwoIPq",
      "authorship_tag": "ABX9TyP0Oco2LdwQLd84t2XFMqEG",
      "include_colab_link": true
    },
    "kernelspec": {
      "name": "python3",
      "display_name": "Python 3"
    },
    "language_info": {
      "name": "python"
    }
  },
  "cells": [
    {
      "cell_type": "markdown",
      "metadata": {
        "id": "view-in-github",
        "colab_type": "text"
      },
      "source": [
        "<a href=\"https://colab.research.google.com/github/Keyur08/Email-Classification-Spam-or-Ham-/blob/main/Email_Classification_(Spam_or_ham).ipynb\" target=\"_parent\"><img src=\"https://colab.research.google.com/assets/colab-badge.svg\" alt=\"Open In Colab\"/></a>"
      ]
    },
    {
      "cell_type": "code",
      "execution_count": null,
      "metadata": {
        "id": "3Vlt5LDTRicJ"
      },
      "outputs": [],
      "source": []
    },
    {
      "cell_type": "code",
      "source": [
        "import pandas as pd\n",
        "from sklearn.feature_extraction.text import CountVectorizer\n",
        "from sklearn.naive_bayes import MultinomialNB\n",
        "\n",
        "# Load the dataset\n",
        "# Replace 'your_dataset.csv' with the actual filename\n",
        "df = pd.read_csv('/content/drive/MyDrive/Colab Notebooks/Email Classification/spam.csv')\n",
        "\n",
        "# Convert text data to numerical features using CountVectorizer\n",
        "vectorizer = CountVectorizer()\n",
        "X_vectorized = vectorizer.fit_transform(df['Message'])\n",
        "\n",
        "# Train a Naive Bayes classifier\n",
        "classifier = MultinomialNB()\n",
        "classifier.fit(X_vectorized, df['Category'])\n",
        "\n",
        "# Function to predict spam or not for a given email\n",
        "def predict_spam(email):\n",
        "    email_vectorized = vectorizer.transform([email])\n",
        "    prediction = classifier.predict(email_vectorized)\n",
        "    return prediction[0]\n",
        "\n",
        "# Allow the user to enter new emails\n",
        "while True:\n",
        "    user_input = input(\"Enter a new email (or 'exit' to stop): \")\n",
        "\n",
        "    if user_input.lower() == 'exit':\n",
        "        break\n",
        "\n",
        "    # Predict whether the entered email is spam or not\n",
        "    prediction = predict_spam(user_input)\n",
        "\n",
        "    if prediction == 'spam':\n",
        "        print(\"This email is classified as spam.\")\n",
        "    else:\n",
        "        print(\"This email is not spam.\")\n"
      ],
      "metadata": {
        "colab": {
          "base_uri": "https://localhost:8080/"
        },
        "id": "VVXDhZeTSNqe",
        "outputId": "a3650771-b4c5-443c-e238-4f040a452b3e"
      },
      "execution_count": null,
      "outputs": [
        {
          "output_type": "stream",
          "name": "stdout",
          "text": [
            "Enter a new email (or 'exit' to stop): Offer offer offer, you have won a gift card\n",
            "This email is classified as spam.\n",
            "Enter a new email (or 'exit' to stop): congratulation\n",
            "This email is not spam.\n"
          ]
        }
      ]
    }
  ]
}